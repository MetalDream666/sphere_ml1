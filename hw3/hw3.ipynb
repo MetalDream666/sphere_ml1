{
 "cells": [
  {
   "cell_type": "markdown",
   "metadata": {},
   "source": [
    "### Алгоритмы интеллектуальной обработки больших объемов данных\n",
    "## Домашнее задание №3 - Дерево решений\n"
   ]
  },
  {
   "cell_type": "markdown",
   "metadata": {},
   "source": [
    "**Общая информация**\n",
    "\n",
    "**Срок сдачи:** 27 апреля 2020, 08:30   \n",
    "**Штраф за опоздание:** -2 балла после 08:30 27 апреля, -4 балла после 08:30 4 мая, -6 баллов после 08:30 11 мая, -8 баллов после 08:30 18 мая.\n",
    "\n",
    "При отправлении ДЗ указывайте фамилию в названии файла Присылать ДЗ необходимо в виде ссылки на свой github репозиторий на почту ml1.sphere@mail.ru с указанием темы в следующем формате:\n",
    "[ML0220, Задание 3] Фамилия Имя. \n",
    "\n",
    "\n",
    "Используйте данный Ipython Notebook при оформлении домашнего задания."
   ]
  },
  {
   "cell_type": "markdown",
   "metadata": {},
   "source": [
    "##  Реализуем дерево решений (3 балла)"
   ]
  },
  {
   "cell_type": "markdown",
   "metadata": {},
   "source": [
    "Допишите недостающие части дерева решений. Ваша реализация дерева должна работать по точности не хуже DecisionTreeClassifier из sklearn.\n",
    "Внимание: если Вас не устраивает предложенная структура хранения дерева, Вы без потери баллов можете сделать свой класс DecisionTreeClassifier, в котором сами полностью воспроизведете алгоритм дерева решений. Обязательно в нем иметь только функции fit, predict"
   ]
  },
  {
   "cell_type": "code",
   "execution_count": 133,
   "metadata": {},
   "outputs": [],
   "source": [
    "import matplotlib.pyplot as plt\n",
    "from mpl_toolkits.mplot3d import Axes3D\n",
    "import numpy as np\n",
    "import pandas as pd\n",
    "\n",
    "from sklearn.datasets import load_wine\n",
    "from sklearn.ensemble import RandomForestClassifier\n",
    "from sklearn.metrics import accuracy_score\n",
    "from sklearn.model_selection import KFold, train_test_split, GridSearchCV, RandomizedSearchCV\n",
    "from sklearn.tree import DecisionTreeClassifier\n"
   ]
  },
  {
   "cell_type": "code",
   "execution_count": 134,
   "metadata": {},
   "outputs": [],
   "source": [
    "class MyDecisionTreeClassifier:\n",
    "    NON_LEAF_TYPE = 0\n",
    "    LEAF_TYPE = 1\n",
    "\n",
    "    def __init__(self, min_samples_split=2, max_depth=5, criterion='gini'):\n",
    "        \"\"\"\n",
    "        criterion -- критерий расщепления. необходимо релизовать три:\n",
    "        Ошибка классификации, Индекс Джини, Энтропийный критерий\n",
    "        max_depth -- максимальная глубина дерева\n",
    "        min_samples_split -- минимальное число объектов в листе, чтобы сделать новый сплит\n",
    "        \"\"\"\n",
    "        self.min_samples_split = min_samples_split\n",
    "        self.max_depth = max_depth\n",
    "        self.num_class = -1\n",
    "        # Для последнего задания\n",
    "        self.feature_importances_ = dict()\n",
    "        self.criterion = criterion\n",
    "        # Структура, которая описывает дерево\n",
    "        # Представляет словарь, где для  node_id (айдишник узла дерева) храним\n",
    "        # (тип_узла, айдишник признака сплита, порог сплита) если тип NON_LEAF_TYPE\n",
    "        # (тип_узла, предсказание класса, вероятность класса) если тип LEAF_TYPE\n",
    "        # Подразумевается, что у каждого node_id в дереве слева \n",
    "        # узел с айди 2 * node_id + 1, а справа 2 * node_id + 2\n",
    "        self.tree = dict()\n",
    "\n",
    "        \n",
    "    def __div_samples(self, x, y, feature_id, threshold):\n",
    "        \"\"\"\n",
    "        Разделяет объекты на 2 множества\n",
    "        x -- матрица объектов\n",
    "        y -- вектор ответов\n",
    "        feature_id -- айдишник признака, по которому делаем сплит\n",
    "        threshold -- порог, по которому делаем сплит\n",
    "        \"\"\"\n",
    "        left_mask = x[:, feature_id] > threshold\n",
    "        right_mask = ~left_mask\n",
    "        return x[left_mask], x[right_mask], y[left_mask], y[right_mask]\n",
    "\n",
    "    \n",
    "    def __split_get_criterions_for_one_feature(self, x, y, ymax, f_rvm):\n",
    "        xx = np.argsort(x)\n",
    "        x1 = x[xx]\n",
    "        y1 = y[xx]\n",
    "                \n",
    "        p = np.zeros(ymax + 1)\n",
    "        count = 0\n",
    "        f1 = np.zeros(x.shape[0]-1)\n",
    "        \n",
    "        for i in y1[:-1]:\n",
    "            p[i] += 1\n",
    "            count += 1\n",
    "            f1[count-1] = 1 - count * np.sum((p / count) ** 2)\n",
    "        \n",
    "        f1 /= count + 1\n",
    "        \n",
    "        y1 = np.flip(y1)\n",
    "        \n",
    "        p = np.zeros(ymax + 1)\n",
    "        count = 0\n",
    "        f2 = np.zeros(x.shape[0]-1)\n",
    "        \n",
    "        for i in y1[:-1]:\n",
    "            p[i] += 1\n",
    "            count += 1\n",
    "            f2[count-1] = 1 - count * np.sum((p / count) ** 2)\n",
    "            \n",
    "        f2 /= count + 1\n",
    "        f2 = np.flip(f2)\n",
    "        \n",
    "        vec_of_crits = f_rvm - f1 - f2\n",
    "        ind = np.argmax(vec_of_crits)\n",
    "        \n",
    "        return (vec_of_crits[ind], x1[ind])\n",
    "        \n",
    "    \n",
    "    def __find_threshold(self, x, y):\n",
    "        \n",
    "        \"\"\"\n",
    "        Находим оптимальный признак и порог для сплита\n",
    "        Здесь используем разные impurity в зависимости от self.criterion\n",
    "        \"\"\"        \n",
    "        ymax = np.max(y)\n",
    "\n",
    "        p = np.unique(y, return_counts=True)[1]\n",
    "        if self.criterion == 'gini':\n",
    "            f_rvm = 1 - np.sum((p / y.shape[0]) ** 2)\n",
    "        elif self.criterion == 'entropy':\n",
    "            f_rvm = - np.nan_to_num(np.sum((p / y.shape[0]) * np.log(p / y.shape[0])))\n",
    "        \n",
    "        rows = np.argsort(x, axis=0)\n",
    "        cols = np.repeat(np.arange(x.shape[1])[np.newaxis], x.shape[0], axis=0)\n",
    "        \n",
    "        xx = x[rows, cols]\n",
    "        yy = np.repeat(y[:, np.newaxis], x.shape[1], axis=1)\n",
    "        yy = yy[rows, cols]\n",
    "        \n",
    "        p = np.zeros([ymax + 1, x.shape[1]])\n",
    "        P = np.zeros(ymax+1)\n",
    "        indp = np.unique(y, return_counts=True)\n",
    "        P[indp[0]] = indp[1]\n",
    "        f1 = np.zeros([x.shape[0]-1, x.shape[1]])\n",
    "        f2 = np.zeros([x.shape[0]-1, x.shape[1]])\n",
    "        indp = np.arange(x.shape[1])\n",
    "        n = np.sum(P)\n",
    "        count = 0\n",
    "        \n",
    "        for i in yy[:-1]:\n",
    "            p[i, indp] += 1\n",
    "            count += 1\n",
    "            if self.criterion == 'gini':\n",
    "                f1[count-1] = 1 - count * np.sum((p / count) ** 2, axis=0)\n",
    "                f2[count-1] = 1 - (n - count) * np.sum(((P[:, np.newaxis] - p) / (n - count)) ** 2, axis=0)\n",
    "            elif self.criterion == 'entropy':\n",
    "                f1[count-1] = (- count * np.sum((p / count) * np.log(p / count), axis=0))\n",
    "                f2[count-1] = - (n - count) * np.sum(((P[:, np.newaxis] - p) / (n - count)) * np.log((P[:, np.newaxis] - p) / (n - count)), axis=0)\n",
    "                \n",
    "        \n",
    "        f1 /= count + 1\n",
    "        f2 /= count + 1\n",
    "            \n",
    "        vec_of_crits = np.nan_to_num(f_rvm - f1 - f2)\n",
    "        ind = np.argwhere(vec_of_crits.max() == vec_of_crits)[0]\n",
    "\n",
    "        return(ind[1], xx[ind[0], ind[1]])\n",
    "        \n",
    "    \n",
    "    def __fit_node(self, x, y, node_id, depth):\n",
    "        \"\"\"\n",
    "        Делаем новый узел в дереве\n",
    "        Решаем, терминальный он или нет\n",
    "        Если нет, то строим левый узел  с айди 2 * node_id + 1\n",
    "        И правый узел с  айди 2 * node_id + 2\n",
    "        \"\"\"        \n",
    "        if depth < self.max_depth and x.shape[0] >= self.min_samples_split:\n",
    "            ind, xx = self.__find_threshold(x, y)\n",
    "            \n",
    "            if ind in self.feature_importances_:\n",
    "                self.feature_importances_[ind] += xx\n",
    "            else:\n",
    "                self.feature_importances_[ind] = xx\n",
    "            \n",
    "            self.tree[node_id] = (self.__class__.NON_LEAF_TYPE, ind, xx)\n",
    "            x_left, x_right, y_left, y_right = self.__div_samples(x, y, ind, xx)\n",
    "            \n",
    "            if x_right.shape[0] == 0 or x_left.shape[0] == 0:\n",
    "                y_unique, y_counts = np.unique(y, return_counts=True)\n",
    "                mx = np.argmax(y_counts)\n",
    "                self.tree[node_id] = (self.__class__.LEAF_TYPE, y_unique[mx])\n",
    "                return\n",
    "                \n",
    "            self.__fit_node(x_left, y_left, 2 * node_id + 1, depth + 1)\n",
    "            self.__fit_node(x_right, y_right, 2 * node_id + 2, depth + 1)\n",
    "            \n",
    "        elif y.shape == (0, ):\n",
    "            print(\"here1\")\n",
    "            return            \n",
    "        \n",
    "        else:\n",
    "            y_unique, y_counts = np.unique(y, return_counts=True)\n",
    "            mx = np.argmax(y_counts)\n",
    "            self.tree[node_id] = (self.__class__.LEAF_TYPE, y_unique[mx])\n",
    "    \n",
    "    \n",
    "    def fit(self, x, y):\n",
    "        \"\"\"\n",
    "        Рекурсивно строим дерево решений\n",
    "        Начинаем с корня node_id 0\n",
    "        \"\"\"\n",
    "        self.num_class = np.unique(y).size\n",
    "        self.__fit_node(x, y, 0, 0) \n",
    "\n",
    "        \n",
    "    def __predict_class(self, x, node_id):\n",
    "        \"\"\"\n",
    "        Рекурсивно обходим дерево по всем узлам,\n",
    "        пока не дойдем до терминального\n",
    "        \"\"\"\n",
    "        node = self.tree[node_id]\n",
    "        if node[0] == self.__class__.NON_LEAF_TYPE:\n",
    "            _, feature_id, threshold = node\n",
    "            if x[feature_id] > threshold:\n",
    "                return self.__predict_class(x, 2 * node_id + 1)\n",
    "            else:\n",
    "                return self.__predict_class(x, 2 * node_id + 2)\n",
    "        else:\n",
    "            return node[1]\n",
    "        \n",
    "        \n",
    "    def predict(self, X):\n",
    "        \"\"\"\n",
    "        Вызывает predict для всех объектов из матрицы X\n",
    "        \"\"\"\n",
    "        return np.array([self.__predict_class(x, 0) for x in X])\n",
    "    \n",
    "    def fit_predict(self, x_train, y_train, predicted_x):\n",
    "        self.fit(x_train, y_train)\n",
    "        return self.predict(predicted_x)\n",
    "    \n",
    "    def get_feature_importance(self):\n",
    "        \"\"\"\n",
    "        Возвращает важность признаков\n",
    "        \"\"\"\n",
    "        # return [(k, v) for k, v in sorted(self.feature_importances_.items(), key=lambda item: item[1])]\n",
    "        return sorted(self.feature_importances_.items(), key=lambda item: item[1], reverse=True)\n",
    "        \n",
    "        "
   ]
  },
  {
   "cell_type": "code",
   "execution_count": 162,
   "metadata": {},
   "outputs": [],
   "source": [
    "my_clf = MyDecisionTreeClassifier(min_samples_split=2)\n",
    "clf = DecisionTreeClassifier(min_samples_split=2)"
   ]
  },
  {
   "cell_type": "code",
   "execution_count": 163,
   "metadata": {},
   "outputs": [],
   "source": [
    "wine = load_wine()\n",
    "X_train, X_test, y_train, y_test = train_test_split(wine.data, wine.target, test_size=0.1, stratify=wine.target)"
   ]
  },
  {
   "cell_type": "code",
   "execution_count": 164,
   "metadata": {},
   "outputs": [
    {
     "data": {
      "text/plain": [
       "DecisionTreeClassifier(ccp_alpha=0.0, class_weight=None, criterion='gini',\n",
       "                       max_depth=None, max_features=None, max_leaf_nodes=None,\n",
       "                       min_impurity_decrease=0.0, min_impurity_split=None,\n",
       "                       min_samples_leaf=1, min_samples_split=2,\n",
       "                       min_weight_fraction_leaf=0.0, presort='deprecated',\n",
       "                       random_state=None, splitter='best')"
      ]
     },
     "execution_count": 164,
     "metadata": {},
     "output_type": "execute_result"
    }
   ],
   "source": [
    "my_clf.fit(X_train, y_train)\n",
    "clf.fit(X_train, y_train)"
   ]
  },
  {
   "cell_type": "code",
   "execution_count": 165,
   "metadata": {},
   "outputs": [
    {
     "data": {
      "text/plain": [
       "0.8888888888888888"
      ]
     },
     "execution_count": 165,
     "metadata": {},
     "output_type": "execute_result"
    }
   ],
   "source": [
    "accuracy_score(y_pred=clf.predict(X_test), y_true=y_test)"
   ]
  },
  {
   "cell_type": "code",
   "execution_count": 166,
   "metadata": {},
   "outputs": [
    {
     "data": {
      "text/plain": [
       "0.8888888888888888"
      ]
     },
     "execution_count": 166,
     "metadata": {},
     "output_type": "execute_result"
    }
   ],
   "source": [
    "accuracy_score(y_pred=my_clf.predict(X_test), y_true=y_test)"
   ]
  },
  {
   "cell_type": "markdown",
   "metadata": {},
   "source": [
    "## Ускоряем дерево решений (2 балла)\n",
    "Добиться скорости работы на fit не медленнее чем в 10 раз sklearn на данных wine. \n",
    "Для этого используем numpy."
   ]
  },
  {
   "cell_type": "code",
   "execution_count": 145,
   "metadata": {
    "scrolled": true
   },
   "outputs": [
    {
     "name": "stdout",
     "output_type": "stream",
     "text": [
      "CPU times: user 8.38 ms, sys: 41 µs, total: 8.42 ms\n",
      "Wall time: 11.4 ms\n"
     ]
    },
    {
     "data": {
      "text/plain": [
       "DecisionTreeClassifier(ccp_alpha=0.0, class_weight=None, criterion='gini',\n",
       "                       max_depth=None, max_features=None, max_leaf_nodes=None,\n",
       "                       min_impurity_decrease=0.0, min_impurity_split=None,\n",
       "                       min_samples_leaf=1, min_samples_split=2,\n",
       "                       min_weight_fraction_leaf=0.0, presort='deprecated',\n",
       "                       random_state=None, splitter='best')"
      ]
     },
     "execution_count": 145,
     "metadata": {},
     "output_type": "execute_result"
    }
   ],
   "source": [
    "%time clf.fit(X_train, y_train)"
   ]
  },
  {
   "cell_type": "code",
   "execution_count": 146,
   "metadata": {},
   "outputs": [
    {
     "name": "stdout",
     "output_type": "stream",
     "text": [
      "CPU times: user 75.8 ms, sys: 39 µs, total: 75.9 ms\n",
      "Wall time: 73.7 ms\n"
     ]
    }
   ],
   "source": [
    "%time my_clf.fit(X_train, y_train)"
   ]
  },
  {
   "cell_type": "markdown",
   "metadata": {},
   "source": [
    "## Боевое применение (3 балла)\n",
    "\n",
    "На практике Вы познакомились с датасетом Speed Dating Data. В нем каждая пара в быстрых свиданиях характеризуется определенным набором признаков. Задача -- предсказать, произойдет ли матч пары (колонка match). \n",
    "\n",
    "Пример работы с датасетом можете найти в практике пункт 2\n",
    "https://github.com/VVVikulin/ml1.sphere/blob/master/2019-09/lecture_06/pract-trees.ipynb\n",
    "\n",
    "Данные и описания колонок лежат тут\n",
    "https://cloud.mail.ru/public/8nHV/p6J7wY1y1/speed-dating-experiment/"
   ]
  },
  {
   "cell_type": "markdown",
   "metadata": {},
   "source": [
    "Скачайте датасет, обработайте данные, как показано на семинаре или своим собственным способом. Обучите дерево классифкации. В качестве таргета возьмите колонку 'match'. Постарайтесь хорошо обработать признаки, чтобы выбить максимальную точность. Если точность будет близка к случайному гаданию, задание не будет защитано. \n"
   ]
  },
  {
   "cell_type": "code",
   "execution_count": 147,
   "metadata": {},
   "outputs": [
    {
     "data": {
      "text/plain": [
       "(8378, 195)"
      ]
     },
     "execution_count": 147,
     "metadata": {},
     "output_type": "execute_result"
    }
   ],
   "source": [
    "df_speed = pd.read_csv(\"./Speed Dating Data.csv\", encoding='cp1252')\n",
    "df_speed.shape"
   ]
  },
  {
   "cell_type": "code",
   "execution_count": 148,
   "metadata": {},
   "outputs": [
    {
     "data": {
      "text/plain": [
       "(3013, 113)"
      ]
     },
     "execution_count": 148,
     "metadata": {},
     "output_type": "execute_result"
    }
   ],
   "source": [
    "def preproc(df):\n",
    "    df = df.iloc[:, :97]\n",
    "    df = df.drop(['id', 'idg', 'condtn', 'round', 'field', 'position', 'positin1', \n",
    "                  'order', 'partner', 'undergra', 'from', 'zipcode', 'career', 'expnum', 'tuition', 'income'], axis=1)\n",
    "\n",
    "    df = df.drop(['pf_o_att', 'pf_o_sin', 'pf_o_int', 'dec_o',\n",
    "                  'pf_o_fun', 'pf_o_amb', 'pf_o_sha', 'mn_sat'], axis=1)\n",
    "\n",
    "    df.drop_duplicates('iid').age.isnull().sum()\n",
    "    df = df.dropna(subset=['age'])\n",
    "    df.loc[:, 'field_cd'] = df.loc[:, 'field_cd'].fillna(0)\n",
    "    pd.get_dummies(df, columns=['field_cd'], prefix='field_cd', prefix_sep='=')\n",
    "    df = df.dropna(subset=['imprelig', 'imprace'])\n",
    "    df = df.dropna(subset=['date'])\n",
    "    df.loc[:, 'career_c'] = df.loc[:, 'career_c'].fillna(0)\n",
    "\n",
    "    feat = ['iid', 'wave', 'attr1_1', 'sinc1_1', 'intel1_1', 'fun1_1',\n",
    "            'amb1_1', 'shar1_1']\n",
    "    temp = df.drop_duplicates(subset=['iid', 'wave']).loc[:, feat]\n",
    "    temp.loc[:, 'totalsum'] = temp.iloc[:, 2:].sum(axis=1)\n",
    "    df.loc[:, 'temp_totalsum'] = df.loc[:, ['attr1_1', 'sinc1_1', 'intel1_1', 'fun1_1', 'amb1_1',\n",
    "              'shar1_1']].sum(axis=1)\n",
    "    df.loc[:, ['attr1_1', 'sinc1_1', 'intel1_1', 'fun1_1', 'amb1_1',\n",
    "               'shar1_1']] = (df.loc[:, ['attr1_1', 'sinc1_1', 'intel1_1',\n",
    "                                         'fun1_1', 'amb1_1', 'shar1_1']].T /\n",
    "                              df.loc[:, 'temp_totalsum'].T).T * 100\n",
    "    feat = ['iid', 'wave', 'attr2_1', 'sinc2_1', 'intel2_1', 'fun2_1',\n",
    "            'amb2_1', 'shar2_1']\n",
    "    temp = df.drop_duplicates(subset=['iid', 'wave']).loc[:, feat]\n",
    "    temp.loc[:, 'totalsum'] = temp.iloc[:, 2:].sum(axis=1)\n",
    "    df.loc[:, 'temp_totalsum'] = df.loc[:, ['attr2_1', 'sinc2_1', 'intel2_1',\n",
    "                                            'fun2_1', 'amb2_1', 'shar2_1']].sum(axis=1)\n",
    "    df.loc[:, ['attr2_1', 'sinc2_1', 'intel2_1', 'fun2_1', 'amb2_1',\n",
    "               'shar2_1']] = (df.loc[:, ['attr2_1', 'sinc2_1', 'intel2_1',\n",
    "                                         'fun2_1', 'amb2_1', 'shar2_1']].T /\n",
    "                              df.loc[:, 'temp_totalsum'].T).T * 100\n",
    "    df = df.drop(['temp_totalsum'], axis=1)\n",
    "\n",
    "    for i in [4, 5]:\n",
    "        feat = ['attr{}_1'.format(i), 'sinc{}_1'.format(i),\n",
    "                'intel{}_1'.format(i), 'fun{}_1'.format(i),\n",
    "                'amb{}_1'.format(i), 'shar{}_1'.format(i)]\n",
    "        if i != 4:\n",
    "            feat.remove('shar{}_1'.format(i))\n",
    "        df = df.drop(feat, axis=1)\n",
    "\n",
    "    df = df.drop(['wave'], axis=1)\n",
    "    df_male = df.query('gender == 1').drop_duplicates(subset=['iid', 'pid']) \\\n",
    "                .drop(['gender'], axis=1).dropna()\n",
    "\n",
    "    df_female = df.query('gender == 0').drop_duplicates(subset=['iid']) \\\n",
    "                .drop(['gender', 'match', 'int_corr', 'samerace'], axis=1).dropna()\n",
    "    df_female.columns = df_female.columns + '_f'\n",
    "    df_female = df_female.drop(['pid_f'], axis=1)\n",
    "    df_pair = df_male.join(df_female.set_index('iid_f'), on='pid', how='inner')\n",
    "    df_pair = df_pair.drop(['iid', 'pid'], axis=1)\n",
    "    \n",
    "    return df_pair\n",
    "\n",
    "\n",
    "df_speed = preproc(df_speed)\n",
    "df_speed.shape"
   ]
  },
  {
   "cell_type": "code",
   "execution_count": 149,
   "metadata": {},
   "outputs": [],
   "source": [
    "my_clf = MyDecisionTreeClassifier(min_samples_split=2, criterion='entropy')\n",
    "clf = DecisionTreeClassifier(min_samples_split=2, criterion='entropy')"
   ]
  },
  {
   "cell_type": "code",
   "execution_count": 150,
   "metadata": {},
   "outputs": [
    {
     "data": {
      "text/plain": [
       "Index(['match', 'int_corr', 'samerace', 'age_o', 'race_o', 'attr_o', 'sinc_o',\n",
       "       'intel_o', 'fun_o', 'amb_o',\n",
       "       ...\n",
       "       'sinc2_1_f', 'intel2_1_f', 'fun2_1_f', 'amb2_1_f', 'shar2_1_f',\n",
       "       'attr3_1_f', 'sinc3_1_f', 'fun3_1_f', 'intel3_1_f', 'amb3_1_f'],\n",
       "      dtype='object', length=113)"
      ]
     },
     "execution_count": 150,
     "metadata": {},
     "output_type": "execute_result"
    }
   ],
   "source": [
    "features_names = df_speed.columns[1:]\n",
    "X = df_speed.iloc[:, 1:].values\n",
    "y = df_speed.iloc[:, 0].values\n",
    "\n",
    "#X = np.array(df_speed.loc[:, df_speed.columns != 'match'].astype(float).values.tolist())\n",
    "#y = np.array(df_speed.loc[:, 'match'].astype(int).values.tolist())\n",
    "\n",
    "\n",
    "X_train, X_test, y_train, y_test = train_test_split(X, y, test_size=0.1, random_state=66)\n",
    "df_speed.columns"
   ]
  },
  {
   "cell_type": "code",
   "execution_count": 151,
   "metadata": {},
   "outputs": [
    {
     "data": {
      "text/plain": [
       "DecisionTreeClassifier(ccp_alpha=0.0, class_weight=None, criterion='entropy',\n",
       "                       max_depth=None, max_features=None, max_leaf_nodes=None,\n",
       "                       min_impurity_decrease=0.0, min_impurity_split=None,\n",
       "                       min_samples_leaf=1, min_samples_split=2,\n",
       "                       min_weight_fraction_leaf=0.0, presort='deprecated',\n",
       "                       random_state=None, splitter='best')"
      ]
     },
     "execution_count": 151,
     "metadata": {},
     "output_type": "execute_result"
    }
   ],
   "source": [
    "clf.fit(X_train, y_train)"
   ]
  },
  {
   "cell_type": "code",
   "execution_count": 152,
   "metadata": {},
   "outputs": [
    {
     "data": {
      "text/plain": [
       "0.7582781456953642"
      ]
     },
     "execution_count": 152,
     "metadata": {},
     "output_type": "execute_result"
    }
   ],
   "source": [
    "accuracy_score(y_pred=clf.predict(X_test), y_true=y_test)"
   ]
  },
  {
   "cell_type": "code",
   "execution_count": 153,
   "metadata": {},
   "outputs": [
    {
     "name": "stderr",
     "output_type": "stream",
     "text": [
      "/home/sofia/miniconda3/lib/python3.7/site-packages/ipykernel_launcher.py:114: RuntimeWarning: divide by zero encountered in log\n",
      "/home/sofia/miniconda3/lib/python3.7/site-packages/ipykernel_launcher.py:114: RuntimeWarning: invalid value encountered in multiply\n",
      "/home/sofia/miniconda3/lib/python3.7/site-packages/ipykernel_launcher.py:115: RuntimeWarning: divide by zero encountered in log\n",
      "/home/sofia/miniconda3/lib/python3.7/site-packages/ipykernel_launcher.py:115: RuntimeWarning: invalid value encountered in multiply\n"
     ]
    }
   ],
   "source": [
    "my_clf.fit(X_train, y_train)"
   ]
  },
  {
   "cell_type": "code",
   "execution_count": 154,
   "metadata": {},
   "outputs": [
    {
     "data": {
      "text/plain": [
       "0.8178807947019867"
      ]
     },
     "execution_count": 154,
     "metadata": {},
     "output_type": "execute_result"
    }
   ],
   "source": [
    "accuracy_score(y_pred=my_clf.predict(X_test), y_true=y_test)"
   ]
  },
  {
   "cell_type": "markdown",
   "metadata": {},
   "source": [
    "Разбейте датасет на трейн и валидацию. Подберите на валидации оптимальный критерий  информативности. \n",
    "Постройте графики зависимости точности на валидации от глубины дерева, от минимального числа объектов для сплита. \n",
    "Какой максимальной точности удалось достигнуть?"
   ]
  },
  {
   "cell_type": "code",
   "execution_count": 155,
   "metadata": {},
   "outputs": [
    {
     "name": "stderr",
     "output_type": "stream",
     "text": [
      "/home/sofia/miniconda3/lib/python3.7/site-packages/ipykernel_launcher.py:114: RuntimeWarning: divide by zero encountered in log\n",
      "/home/sofia/miniconda3/lib/python3.7/site-packages/ipykernel_launcher.py:114: RuntimeWarning: invalid value encountered in multiply\n",
      "/home/sofia/miniconda3/lib/python3.7/site-packages/ipykernel_launcher.py:115: RuntimeWarning: divide by zero encountered in log\n",
      "/home/sofia/miniconda3/lib/python3.7/site-packages/ipykernel_launcher.py:115: RuntimeWarning: invalid value encountered in multiply\n"
     ]
    }
   ],
   "source": [
    "cdm = dict()\n",
    "for criterion in ('gini', 'entropy'):\n",
    "    if criterion not in cdm:\n",
    "        cdm[criterion] = dict()\n",
    "    for depth in (5, 10, 15, 20):\n",
    "        if depth not in cdm[criterion]:\n",
    "            cdm[criterion][depth] = dict()\n",
    "        for min_samples_split in (2, 4, 6, 8, 10):\n",
    "            my_clf = MyDecisionTreeClassifier(min_samples_split=min_samples_split, criterion=criterion, max_depth=depth)\n",
    "            my_clf.fit(X_train, y_train)\n",
    "            cdm[criterion][depth][min_samples_split] = accuracy_score(y_pred=my_clf.predict(X_test), y_true=y_test)\n",
    "\n",
    "\n"
   ]
  },
  {
   "cell_type": "code",
   "execution_count": 156,
   "metadata": {},
   "outputs": [
    {
     "data": {
      "text/plain": [
       "<function matplotlib.pyplot.show(*args, **kw)>"
      ]
     },
     "execution_count": 156,
     "metadata": {},
     "output_type": "execute_result"
    },
    {
     "data": {
      "image/png": "[encoded data removed]",
      "text/plain": [
       "<Figure size 432x288 with 1 Axes>"
      ]
     },
     "metadata": {
      "needs_background": "light"
     },
     "output_type": "display_data"
    }
   ],
   "source": [
    "points_x = dict({'gini': list(), 'entropy': list()})\n",
    "points_y = dict({'gini': list(), 'entropy': list()})\n",
    "points_z = dict({'gini': list(), 'entropy': list()})\n",
    "for criterion in ('gini', 'entropy'):\n",
    "    for depth in (5, 10, 15, 20):\n",
    "        for min_samples_split in (2, 4, 6, 8, 10):\n",
    "            points_x[criterion].append(depth)\n",
    "            points_y[criterion].append(min_samples_split)\n",
    "            points_z[criterion].append(cdm[criterion][depth][min_samples_split])\n",
    "\n",
    "\n",
    "ax = plt.axes(projection='3d')\n",
    "ax.set_xlabel('depth')\n",
    "ax.set_ylabel('min_samples_split')\n",
    "ax.set_zlabel('accuracy')\n",
    "ax.scatter(points_x['gini'], points_y['gini'], points_z['gini'], label='gini')\n",
    "ax.scatter(points_x['entropy'], points_y['entropy'], points_z['entropy'], label='entropy')\n",
    "ax.legend()\n",
    "plt.show"
   ]
  },
  {
   "cell_type": "markdown",
   "metadata": {},
   "source": [
    "## Находим самые важные признаки (2 балла)\n",
    "\n"
   ]
  },
  {
   "cell_type": "markdown",
   "metadata": {},
   "source": [
    "По построенному дереву  легко понять, какие признаки лучше всего помогли решить задачу. Часто это бывает нужно  не только  для сокращения размерности в данных, но и для лучшего понимания прикладной задачи. Например, Вы хотите понять, какие признаки стоит еще конструировать -- для этого нужно понимать, какие из текущих лучше всего работают в дереве. "
   ]
  },
  {
   "cell_type": "markdown",
   "metadata": {},
   "source": [
    "Самый простой метод -- посчитать число сплитов, где использовался данные признак. Это не лучший вариант, так как по признаку который принимает всего 2 значения, но который почти точно разделяет выборку, число сплитов будет очень 1, но при этом признак сам очень хороший. \n",
    "В этом задании предлагается для каждого признака считать суммарный gain (в лекции обозначено как Q) при использовании этого признака в сплите. Тогда даже у очень хороших признаков с маленьким число сплитов это значение должно быть довольно высоким.  "
   ]
  },
  {
   "cell_type": "markdown",
   "metadata": {},
   "source": [
    "Реализовать это довольно просто: создаете словарь номер фичи : суммарный гейн и добавляете в нужную фичу каждый раз, когда используете ее при построении дерева. "
   ]
  },
  {
   "cell_type": "markdown",
   "metadata": {},
   "source": [
    "Добавьте функционал, который определяет значения feature importance. Обучите дерево на датасете Speed Dating Data.\n",
    "Выведите 10 главных фичей по важности."
   ]
  },
  {
   "cell_type": "code",
   "execution_count": 157,
   "metadata": {},
   "outputs": [
    {
     "name": "stderr",
     "output_type": "stream",
     "text": [
      "/home/sofia/miniconda3/lib/python3.7/site-packages/ipykernel_launcher.py:114: RuntimeWarning: divide by zero encountered in log\n",
      "/home/sofia/miniconda3/lib/python3.7/site-packages/ipykernel_launcher.py:114: RuntimeWarning: invalid value encountered in multiply\n",
      "/home/sofia/miniconda3/lib/python3.7/site-packages/ipykernel_launcher.py:115: RuntimeWarning: divide by zero encountered in log\n",
      "/home/sofia/miniconda3/lib/python3.7/site-packages/ipykernel_launcher.py:115: RuntimeWarning: invalid value encountered in multiply\n"
     ]
    }
   ],
   "source": [
    "my_clf = MyDecisionTreeClassifier(min_samples_split=2, criterion='entropy', max_depth=5)\n",
    "X_train, X_test, y_train, y_test = train_test_split(X, y, test_size=0.1, random_state=666)\n",
    "my_clf.fit(X_train, y_train)"
   ]
  },
  {
   "cell_type": "code",
   "execution_count": 158,
   "metadata": {},
   "outputs": [
    {
     "data": {
      "text/plain": [
       "{10: 13.0,\n",
       " 11: 11.0,\n",
       " 12: 4.0,\n",
       " 0: 0.41000000000000003,\n",
       " 9: 9.0,\n",
       " 76: 2.0,\n",
       " 85: 2.0,\n",
       " 6: 9.0,\n",
       " 78: 1.0,\n",
       " 41: 20.0,\n",
       " 26: 3.0,\n",
       " 16: 1.0,\n",
       " 101: 55.00000000000001,\n",
       " 33: 3.0,\n",
       " 63: 29.0,\n",
       " 79: 2.0,\n",
       " 13: 24.0}"
      ]
     },
     "execution_count": 158,
     "metadata": {},
     "output_type": "execute_result"
    }
   ],
   "source": [
    "my_clf.feature_importances_"
   ]
  },
  {
   "cell_type": "code",
   "execution_count": 159,
   "metadata": {},
   "outputs": [
    {
     "data": {
      "text/plain": [
       "Index(['attr2_1_f', 'amb_o_f', 'age', 'sinc1_1', 'like_o', 'prob_o', 'shar_o',\n",
       "       'intel_o', 'met_o', 'museums'],\n",
       "      dtype='object')"
      ]
     },
     "execution_count": 159,
     "metadata": {},
     "output_type": "execute_result"
    }
   ],
   "source": [
    "features_names[[k for k, v in sorted(my_clf.feature_importances_.items(), key=lambda item: item[1], reverse=True)[:10]]]"
   ]
  },
  {
   "cell_type": "markdown",
   "metadata": {},
   "source": [
    "## Фидбек (бесценно)"
   ]
  },
  {
   "cell_type": "markdown",
   "metadata": {},
   "source": [
    "* Какие аспекты обучения деревьев решений Вам показались непонятными? Какое место стоит дополнительно объяснить?"
   ]
  },
  {
   "cell_type": "markdown",
   "metadata": {},
   "source": [
    "### Ваш ответ здесь"
   ]
  },
  {
   "cell_type": "markdown",
   "metadata": {},
   "source": [
    "* Здесь Вы можете оставить отзыв о этой домашней работе или о всем курсе."
   ]
  }
 ],
 "metadata": {
  "anaconda-cloud": {},
  "kernelspec": {
   "display_name": "Python 3",
   "language": "python",
   "name": "python3"
  },
  "language_info": {
   "codemirror_mode": {
    "name": "ipython",
    "version": 3
   },
   "file_extension": ".py",
   "mimetype": "text/x-python",
   "name": "python",
   "nbconvert_exporter": "python",
   "pygments_lexer": "ipython3",
   "version": "3.7.4"
  }
 },
 "nbformat": 4,
 "nbformat_minor": 2
}
